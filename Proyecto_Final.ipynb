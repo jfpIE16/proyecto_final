{
 "cells": [
  {
   "cell_type": "code",
   "execution_count": 1,
   "metadata": {},
   "outputs": [
    {
     "name": "stdout",
     "output_type": "stream",
     "text": [
      "Python 3.6.5\n"
     ]
    }
   ],
   "source": [
    "!python --version"
   ]
  },
  {
   "cell_type": "code",
   "execution_count": 17,
   "metadata": {},
   "outputs": [],
   "source": [
    "# Importamos las librerías permitidas para la realización del proyecto\n",
    "import numpy as np\n",
    "import matplotlib.pyplot as plt\n",
    "import seaborn as sns\n",
    "from sklearn.linear_model import LinearRegression\n",
    "import pandas as pd"
   ]
  },
  {
   "cell_type": "markdown",
   "metadata": {},
   "source": [
    "## Procesamiento inicial del conjunto de datos\n",
    "Se leerán los datos de un archivo \".npy\" que es un fichero que contiene datos compatibles con numpy. También se realizara la divisón de los datos en 2 subconjuntos quedando distribuidos de la siguiente manera:\n",
    "\n",
    "| Subconjunto          | Proporción del conjunto original |\n",
    "| -------------------- | -------------------------------- |\n",
    "| Entrenamiento        | 80%                              |\n",
    "| Validación y pruebas | 20%                              |\n",
    "\n",
    "## Descripción del conjunto de datos\n",
    "\n",
    "| No | Nombre Columna | Descripción | Dimensional |\n",
    "| -- | -------------- | ----------- | ----------- |\n",
    "| 0  | SalePrice      | Precio de la casa. Objetivo de predicción, **Y**.| \\$ |\n",
    "| 1  | OverallQual    | Calidad de los materiales y acabados de la construcción. Escala de 1 - 10, donde 10 es lo mejor. | -- |\n",
    "| 2  | 1stFlrSF       | Metros cuadrados de construcción en primer nivel. | $mts^2$ |\n",
    "| 3  | TotRmsAbvGrd   | Habitaciones con un grado alto. Excluyendo los baños. | -- |\n",
    "| 4  | YearBuilt      | Año de construcción | -- |\n",
    "| 5  | LotFrontAge    | Medida de largo de casa conectado a la calle. | $ft$ |\n"
   ]
  },
  {
   "cell_type": "code",
   "execution_count": 33,
   "metadata": {},
   "outputs": [],
   "source": [
    "# Nombres de las columnas\n",
    "data_description = {0: \"SalePrice\", \n",
    "                    1: \"OverallQual\", \n",
    "                    2: \"1stFlrSF\", \n",
    "                    3: \"TotRmsAbvGrd\", \n",
    "                    4: \"YearBuilt\", \n",
    "                    5: \"LotFrontAge\"}"
   ]
  },
  {
   "cell_type": "code",
   "execution_count": 30,
   "metadata": {},
   "outputs": [],
   "source": [
    "# Mostrar las dimensiones de un conjunto de datos\n",
    "def print_dimensions(data_title, data):\n",
    "    print(f\"{data_title}\".center(30, \"-\"))\n",
    "    print(f\"Cantidad de filas: {data.shape[0]}\")\n",
    "    print(f\"Cantidad de columnas: {data.shape[1]}\")\n",
    "    print(\"\".center(30,\"-\"))\n",
    "\n",
    "# Función que retorna el conjunto de datos de entrenamiento y validación\n",
    "def data_train_test_split(data, test_size=0.8):\n",
    "    subset_index = int(data.shape[0] * test_size)\n",
    "    return data[:subset_index,], data[subset_index:,]"
   ]
  },
  {
   "cell_type": "code",
   "execution_count": 32,
   "metadata": {},
   "outputs": [
    {
     "name": "stdout",
     "output_type": "stream",
     "text": [
      "-----------Original-----------\n",
      "Cantidad de filas: 1460\n",
      "Cantidad de columnas: 6\n",
      "------------------------------\n",
      "----------Train data----------\n",
      "Cantidad de filas: 1168\n",
      "Cantidad de columnas: 6\n",
      "------------------------------\n",
      "----------Valid data----------\n",
      "Cantidad de filas: 292\n",
      "Cantidad de columnas: 6\n",
      "------------------------------\n"
     ]
    }
   ],
   "source": [
    "original_data = np.load('data/proyecto_training_data.npy')\n",
    "train_data, valid_data = data_train_test_split(original_data, test_size=0.8)\n",
    "print_dimensions(\"Original\", original_data)\n",
    "print_dimensions(\"Train data\", train_data)\n",
    "print_dimensions(\"Valid data\", valid_data)"
   ]
  },
  {
   "cell_type": "code",
   "execution_count": null,
   "metadata": {},
   "outputs": [],
   "source": []
  }
 ],
 "metadata": {
  "kernelspec": {
   "display_name": "Python 3",
   "language": "python",
   "name": "python3"
  },
  "language_info": {
   "codemirror_mode": {
    "name": "ipython",
    "version": 3
   },
   "file_extension": ".py",
   "mimetype": "text/x-python",
   "name": "python",
   "nbconvert_exporter": "python",
   "pygments_lexer": "ipython3",
   "version": "3.6.5"
  }
 },
 "nbformat": 4,
 "nbformat_minor": 2
}
